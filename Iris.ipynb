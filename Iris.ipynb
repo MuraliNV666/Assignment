{
 "cells": [
  {
   "cell_type": "code",
   "execution_count": 1,
   "id": "e96a4a67",
   "metadata": {},
   "outputs": [],
   "source": [
    "import numpy as np\n",
    "import pandas as pd"
   ]
  },
  {
   "cell_type": "code",
   "execution_count": 2,
   "id": "8c7c9656",
   "metadata": {},
   "outputs": [
    {
     "data": {
      "text/html": [
       "<div>\n",
       "<style scoped>\n",
       "    .dataframe tbody tr th:only-of-type {\n",
       "        vertical-align: middle;\n",
       "    }\n",
       "\n",
       "    .dataframe tbody tr th {\n",
       "        vertical-align: top;\n",
       "    }\n",
       "\n",
       "    .dataframe thead th {\n",
       "        text-align: right;\n",
       "    }\n",
       "</style>\n",
       "<table border=\"1\" class=\"dataframe\">\n",
       "  <thead>\n",
       "    <tr style=\"text-align: right;\">\n",
       "      <th></th>\n",
       "      <th>sepal_length</th>\n",
       "      <th>sepal_width</th>\n",
       "      <th>petal_length</th>\n",
       "      <th>petal_width</th>\n",
       "      <th>target</th>\n",
       "    </tr>\n",
       "  </thead>\n",
       "  <tbody>\n",
       "    <tr>\n",
       "      <th>0</th>\n",
       "      <td>5.1</td>\n",
       "      <td>3.5</td>\n",
       "      <td>1.4</td>\n",
       "      <td>0.2</td>\n",
       "      <td>0</td>\n",
       "    </tr>\n",
       "    <tr>\n",
       "      <th>1</th>\n",
       "      <td>4.9</td>\n",
       "      <td>3.0</td>\n",
       "      <td>1.4</td>\n",
       "      <td>0.2</td>\n",
       "      <td>0</td>\n",
       "    </tr>\n",
       "    <tr>\n",
       "      <th>2</th>\n",
       "      <td>4.7</td>\n",
       "      <td>3.2</td>\n",
       "      <td>1.3</td>\n",
       "      <td>0.2</td>\n",
       "      <td>0</td>\n",
       "    </tr>\n",
       "    <tr>\n",
       "      <th>3</th>\n",
       "      <td>4.6</td>\n",
       "      <td>3.1</td>\n",
       "      <td>1.5</td>\n",
       "      <td>0.2</td>\n",
       "      <td>0</td>\n",
       "    </tr>\n",
       "    <tr>\n",
       "      <th>4</th>\n",
       "      <td>5.0</td>\n",
       "      <td>3.6</td>\n",
       "      <td>1.4</td>\n",
       "      <td>0.2</td>\n",
       "      <td>0</td>\n",
       "    </tr>\n",
       "  </tbody>\n",
       "</table>\n",
       "</div>"
      ],
      "text/plain": [
       "   sepal_length  sepal_width  petal_length  petal_width  target\n",
       "0           5.1          3.5           1.4          0.2       0\n",
       "1           4.9          3.0           1.4          0.2       0\n",
       "2           4.7          3.2           1.3          0.2       0\n",
       "3           4.6          3.1           1.5          0.2       0\n",
       "4           5.0          3.6           1.4          0.2       0"
      ]
     },
     "execution_count": 2,
     "metadata": {},
     "output_type": "execute_result"
    }
   ],
   "source": [
    "iris=pd.read_csv('iris.csv')\n",
    "iris.head()"
   ]
  },
  {
   "cell_type": "code",
   "execution_count": 3,
   "id": "4235fa18",
   "metadata": {},
   "outputs": [
    {
     "data": {
      "text/plain": [
       "(150, 5)"
      ]
     },
     "execution_count": 3,
     "metadata": {},
     "output_type": "execute_result"
    }
   ],
   "source": [
    "iris.shape"
   ]
  },
  {
   "cell_type": "code",
   "execution_count": 4,
   "id": "0452e588",
   "metadata": {},
   "outputs": [
    {
     "name": "stdout",
     "output_type": "stream",
     "text": [
      "<class 'pandas.core.frame.DataFrame'>\n",
      "RangeIndex: 150 entries, 0 to 149\n",
      "Data columns (total 5 columns):\n",
      " #   Column        Non-Null Count  Dtype  \n",
      "---  ------        --------------  -----  \n",
      " 0   sepal_length  150 non-null    float64\n",
      " 1   sepal_width   150 non-null    float64\n",
      " 2   petal_length  150 non-null    float64\n",
      " 3   petal_width   150 non-null    float64\n",
      " 4   target        150 non-null    int64  \n",
      "dtypes: float64(4), int64(1)\n",
      "memory usage: 6.0 KB\n"
     ]
    }
   ],
   "source": [
    "iris.info()"
   ]
  },
  {
   "cell_type": "code",
   "execution_count": 5,
   "id": "9b302565",
   "metadata": {},
   "outputs": [
    {
     "data": {
      "text/plain": [
       "sepal_length    0\n",
       "sepal_width     0\n",
       "petal_length    0\n",
       "petal_width     0\n",
       "target          0\n",
       "dtype: int64"
      ]
     },
     "execution_count": 5,
     "metadata": {},
     "output_type": "execute_result"
    }
   ],
   "source": [
    "iris.isnull().sum()"
   ]
  },
  {
   "cell_type": "code",
   "execution_count": 6,
   "id": "5d4a8133",
   "metadata": {},
   "outputs": [
    {
     "data": {
      "text/html": [
       "<div>\n",
       "<style scoped>\n",
       "    .dataframe tbody tr th:only-of-type {\n",
       "        vertical-align: middle;\n",
       "    }\n",
       "\n",
       "    .dataframe tbody tr th {\n",
       "        vertical-align: top;\n",
       "    }\n",
       "\n",
       "    .dataframe thead th {\n",
       "        text-align: right;\n",
       "    }\n",
       "</style>\n",
       "<table border=\"1\" class=\"dataframe\">\n",
       "  <thead>\n",
       "    <tr style=\"text-align: right;\">\n",
       "      <th></th>\n",
       "      <th>sepal_length</th>\n",
       "      <th>sepal_width</th>\n",
       "      <th>petal_length</th>\n",
       "      <th>petal_width</th>\n",
       "      <th>target</th>\n",
       "    </tr>\n",
       "  </thead>\n",
       "  <tbody>\n",
       "    <tr>\n",
       "      <th>count</th>\n",
       "      <td>150.000000</td>\n",
       "      <td>150.000000</td>\n",
       "      <td>150.000000</td>\n",
       "      <td>150.000000</td>\n",
       "      <td>150.000000</td>\n",
       "    </tr>\n",
       "    <tr>\n",
       "      <th>mean</th>\n",
       "      <td>5.843333</td>\n",
       "      <td>3.054000</td>\n",
       "      <td>3.758667</td>\n",
       "      <td>1.198667</td>\n",
       "      <td>1.000000</td>\n",
       "    </tr>\n",
       "    <tr>\n",
       "      <th>std</th>\n",
       "      <td>0.828066</td>\n",
       "      <td>0.433594</td>\n",
       "      <td>1.764420</td>\n",
       "      <td>0.763161</td>\n",
       "      <td>0.819232</td>\n",
       "    </tr>\n",
       "    <tr>\n",
       "      <th>min</th>\n",
       "      <td>4.300000</td>\n",
       "      <td>2.000000</td>\n",
       "      <td>1.000000</td>\n",
       "      <td>0.100000</td>\n",
       "      <td>0.000000</td>\n",
       "    </tr>\n",
       "    <tr>\n",
       "      <th>25%</th>\n",
       "      <td>5.100000</td>\n",
       "      <td>2.800000</td>\n",
       "      <td>1.600000</td>\n",
       "      <td>0.300000</td>\n",
       "      <td>0.000000</td>\n",
       "    </tr>\n",
       "    <tr>\n",
       "      <th>50%</th>\n",
       "      <td>5.800000</td>\n",
       "      <td>3.000000</td>\n",
       "      <td>4.350000</td>\n",
       "      <td>1.300000</td>\n",
       "      <td>1.000000</td>\n",
       "    </tr>\n",
       "    <tr>\n",
       "      <th>75%</th>\n",
       "      <td>6.400000</td>\n",
       "      <td>3.300000</td>\n",
       "      <td>5.100000</td>\n",
       "      <td>1.800000</td>\n",
       "      <td>2.000000</td>\n",
       "    </tr>\n",
       "    <tr>\n",
       "      <th>max</th>\n",
       "      <td>7.900000</td>\n",
       "      <td>4.400000</td>\n",
       "      <td>6.900000</td>\n",
       "      <td>2.500000</td>\n",
       "      <td>2.000000</td>\n",
       "    </tr>\n",
       "  </tbody>\n",
       "</table>\n",
       "</div>"
      ],
      "text/plain": [
       "       sepal_length  sepal_width  petal_length  petal_width      target\n",
       "count    150.000000   150.000000    150.000000   150.000000  150.000000\n",
       "mean       5.843333     3.054000      3.758667     1.198667    1.000000\n",
       "std        0.828066     0.433594      1.764420     0.763161    0.819232\n",
       "min        4.300000     2.000000      1.000000     0.100000    0.000000\n",
       "25%        5.100000     2.800000      1.600000     0.300000    0.000000\n",
       "50%        5.800000     3.000000      4.350000     1.300000    1.000000\n",
       "75%        6.400000     3.300000      5.100000     1.800000    2.000000\n",
       "max        7.900000     4.400000      6.900000     2.500000    2.000000"
      ]
     },
     "execution_count": 6,
     "metadata": {},
     "output_type": "execute_result"
    }
   ],
   "source": [
    "iris.describe()"
   ]
  },
  {
   "cell_type": "code",
   "execution_count": 7,
   "id": "9bb0fbd4",
   "metadata": {},
   "outputs": [
    {
     "name": "stdout",
     "output_type": "stream",
     "text": [
      "INFO:tensorflow:Enabling eager execution\n",
      "INFO:tensorflow:Enabling v2 tensorshape\n",
      "INFO:tensorflow:Enabling resource variables\n",
      "INFO:tensorflow:Enabling tensor equality\n",
      "INFO:tensorflow:Enabling control flow v2\n"
     ]
    }
   ],
   "source": [
    "\n",
    "from numpy import mean\n",
    "from numpy import std\n",
    "from pandas import read_csv\n",
    "from sklearn.model_selection import StratifiedKFold\n",
    "from sklearn.preprocessing import LabelEncoder\n",
    "from sklearn.metrics import accuracy_score\n",
    "\n",
    "from matplotlib import pyplot\n",
    "from sklearn.model_selection import train_test_split\n",
    "from keras.models import Sequential\n",
    "from keras.layers import Dense\n",
    "\n"
   ]
  },
  {
   "cell_type": "code",
   "execution_count": 8,
   "id": "5d44b69c",
   "metadata": {},
   "outputs": [],
   "source": [
    "X, y = iris.values[:, :-1], iris.values[:, -1]"
   ]
  },
  {
   "cell_type": "code",
   "execution_count": 9,
   "id": "295298ed",
   "metadata": {},
   "outputs": [
    {
     "name": "stdout",
     "output_type": "stream",
     "text": [
      "(150, 4) (150,)\n"
     ]
    }
   ],
   "source": [
    "print(X.shape,y.shape)"
   ]
  },
  {
   "cell_type": "code",
   "execution_count": 10,
   "id": "1f01affb",
   "metadata": {},
   "outputs": [],
   "source": [
    "def create_one_hot_encoding(classes, shape):\n",
    "    one_hot_encoding = np.zeros(shape)\n",
    "    for i in range(0, len(one_hot_encoding)):\n",
    "        one_hot_encoding[i][int(classes[i])] = 1\n",
    "    return one_hot_encoding"
   ]
  },
  {
   "cell_type": "code",
   "execution_count": 11,
   "id": "60795253",
   "metadata": {},
   "outputs": [],
   "source": [
    "y1 = create_one_hot_encoding(y, (len(y), len(np.unique(y))))"
   ]
  },
  {
   "cell_type": "code",
   "execution_count": 90,
   "id": "95de2e51",
   "metadata": {},
   "outputs": [],
   "source": [
    "X_train, X_test, y_train, y_test = train_test_split(X, y1,random_state=15, test_size=0.33)"
   ]
  },
  {
   "cell_type": "code",
   "execution_count": 91,
   "id": "51051955",
   "metadata": {},
   "outputs": [
    {
     "name": "stdout",
     "output_type": "stream",
     "text": [
      "(100, 4) (100, 3) (50, 4) (50, 3)\n"
     ]
    }
   ],
   "source": [
    "print(X_train.shape,y_train.shape,X_test.shape,y_test.shape)"
   ]
  },
  {
   "cell_type": "code",
   "execution_count": 92,
   "id": "88d05f4e",
   "metadata": {},
   "outputs": [],
   "source": [
    "n_features = X.shape[1]"
   ]
  },
  {
   "cell_type": "code",
   "execution_count": 93,
   "id": "89eef105",
   "metadata": {},
   "outputs": [
    {
     "name": "stdout",
     "output_type": "stream",
     "text": [
      "Model: \"sequential_14\"\n",
      "_________________________________________________________________\n",
      "Layer (type)                 Output Shape              Param #   \n",
      "=================================================================\n",
      "dense_42 (Dense)             (None, 10)                50        \n",
      "_________________________________________________________________\n",
      "dense_43 (Dense)             (None, 10)                110       \n",
      "_________________________________________________________________\n",
      "dense_44 (Dense)             (None, 3)                 33        \n",
      "=================================================================\n",
      "Total params: 193\n",
      "Trainable params: 193\n",
      "Non-trainable params: 0\n",
      "_________________________________________________________________\n"
     ]
    }
   ],
   "source": [
    "# define model\n",
    "model = Sequential()\n",
    "model.add(Dense(10, activation='relu', kernel_initializer='he_normal', input_shape=(n_features,)))\n",
    "model.add(Dense(10, activation='relu',kernel_initializer='he_normal'))\n",
    "model.add(Dense(3, activation='softmax'))\n",
    "model.compile(optimizer='adam', loss='categorical_crossentropy',metrics=['accuracy'])\n",
    "model.summary()"
   ]
  },
  {
   "cell_type": "code",
   "execution_count": 94,
   "id": "0a36d6fe",
   "metadata": {},
   "outputs": [
    {
     "name": "stdout",
     "output_type": "stream",
     "text": [
      "Epoch 1/100\n",
      "4/4 [==============================] - 1s 80ms/step - loss: 4.5623 - accuracy: 0.3435 - val_loss: 4.1331 - val_accuracy: 0.3400\n",
      "Epoch 2/100\n",
      "4/4 [==============================] - 0s 11ms/step - loss: 4.1783 - accuracy: 0.3247 - val_loss: 3.6534 - val_accuracy: 0.3400\n",
      "Epoch 3/100\n",
      "4/4 [==============================] - 0s 8ms/step - loss: 3.5671 - accuracy: 0.3268 - val_loss: 3.1493 - val_accuracy: 0.3400\n",
      "Epoch 4/100\n",
      "4/4 [==============================] - 0s 9ms/step - loss: 3.0836 - accuracy: 0.3289 - val_loss: 2.6254 - val_accuracy: 0.3400\n",
      "Epoch 5/100\n",
      "4/4 [==============================] - 0s 8ms/step - loss: 2.5464 - accuracy: 0.3383 - val_loss: 2.1500 - val_accuracy: 0.3400\n",
      "Epoch 6/100\n",
      "4/4 [==============================] - 0s 7ms/step - loss: 1.9874 - accuracy: 0.3782 - val_loss: 1.7845 - val_accuracy: 0.3800\n",
      "Epoch 7/100\n",
      "4/4 [==============================] - 0s 8ms/step - loss: 1.6902 - accuracy: 0.4877 - val_loss: 1.5550 - val_accuracy: 0.5000\n",
      "Epoch 8/100\n",
      "4/4 [==============================] - 0s 8ms/step - loss: 1.5669 - accuracy: 0.4263 - val_loss: 1.3858 - val_accuracy: 0.3800\n",
      "Epoch 9/100\n",
      "4/4 [==============================] - 0s 7ms/step - loss: 1.4402 - accuracy: 0.3367 - val_loss: 1.2411 - val_accuracy: 0.3400\n",
      "Epoch 10/100\n",
      "4/4 [==============================] - 0s 8ms/step - loss: 1.2818 - accuracy: 0.3433 - val_loss: 1.1046 - val_accuracy: 0.3400\n",
      "Epoch 11/100\n",
      "4/4 [==============================] - 0s 9ms/step - loss: 1.1376 - accuracy: 0.3358 - val_loss: 0.9781 - val_accuracy: 0.3400\n",
      "Epoch 12/100\n",
      "4/4 [==============================] - 0s 7ms/step - loss: 0.9396 - accuracy: 0.3865 - val_loss: 0.8726 - val_accuracy: 0.4000\n",
      "Epoch 13/100\n",
      "4/4 [==============================] - 0s 8ms/step - loss: 0.8551 - accuracy: 0.4322 - val_loss: 0.7902 - val_accuracy: 0.6800\n",
      "Epoch 14/100\n",
      "4/4 [==============================] - 0s 8ms/step - loss: 0.7867 - accuracy: 0.6913 - val_loss: 0.7336 - val_accuracy: 0.8800\n",
      "Epoch 15/100\n",
      "4/4 [==============================] - 0s 8ms/step - loss: 0.7201 - accuracy: 0.7752 - val_loss: 0.6990 - val_accuracy: 0.8800\n",
      "Epoch 16/100\n",
      "4/4 [==============================] - 0s 8ms/step - loss: 0.6799 - accuracy: 0.8904 - val_loss: 0.6776 - val_accuracy: 0.8800\n",
      "Epoch 17/100\n",
      "4/4 [==============================] - 0s 8ms/step - loss: 0.6374 - accuracy: 0.9020 - val_loss: 0.6626 - val_accuracy: 0.8600\n",
      "Epoch 18/100\n",
      "4/4 [==============================] - 0s 9ms/step - loss: 0.6376 - accuracy: 0.8615 - val_loss: 0.6492 - val_accuracy: 0.8600\n",
      "Epoch 19/100\n",
      "4/4 [==============================] - 0s 7ms/step - loss: 0.6137 - accuracy: 0.9102 - val_loss: 0.6351 - val_accuracy: 0.8800\n",
      "Epoch 20/100\n",
      "4/4 [==============================] - 0s 8ms/step - loss: 0.6134 - accuracy: 0.8912 - val_loss: 0.6198 - val_accuracy: 0.8800\n",
      "Epoch 21/100\n",
      "4/4 [==============================] - 0s 9ms/step - loss: 0.5917 - accuracy: 0.9263 - val_loss: 0.6052 - val_accuracy: 0.8800\n",
      "Epoch 22/100\n",
      "4/4 [==============================] - 0s 7ms/step - loss: 0.5779 - accuracy: 0.9378 - val_loss: 0.5915 - val_accuracy: 0.8600\n",
      "Epoch 23/100\n",
      "4/4 [==============================] - 0s 8ms/step - loss: 0.5586 - accuracy: 0.8608 - val_loss: 0.5793 - val_accuracy: 0.8600\n",
      "Epoch 24/100\n",
      "4/4 [==============================] - 0s 9ms/step - loss: 0.5664 - accuracy: 0.8143 - val_loss: 0.5680 - val_accuracy: 0.8600\n",
      "Epoch 25/100\n",
      "4/4 [==============================] - 0s 7ms/step - loss: 0.5472 - accuracy: 0.8455 - val_loss: 0.5575 - val_accuracy: 0.8600\n",
      "Epoch 26/100\n",
      "4/4 [==============================] - 0s 8ms/step - loss: 0.5589 - accuracy: 0.8120 - val_loss: 0.5477 - val_accuracy: 0.8600\n",
      "Epoch 27/100\n",
      "4/4 [==============================] - 0s 9ms/step - loss: 0.5281 - accuracy: 0.8431 - val_loss: 0.5387 - val_accuracy: 0.8400\n",
      "Epoch 28/100\n",
      "4/4 [==============================] - 0s 8ms/step - loss: 0.5307 - accuracy: 0.7919 - val_loss: 0.5300 - val_accuracy: 0.7800\n",
      "Epoch 29/100\n",
      "4/4 [==============================] - 0s 8ms/step - loss: 0.5287 - accuracy: 0.7863 - val_loss: 0.5202 - val_accuracy: 0.8800\n",
      "Epoch 30/100\n",
      "4/4 [==============================] - 0s 8ms/step - loss: 0.5144 - accuracy: 0.9045 - val_loss: 0.5114 - val_accuracy: 0.8800\n",
      "Epoch 31/100\n",
      "4/4 [==============================] - 0s 8ms/step - loss: 0.4963 - accuracy: 0.9324 - val_loss: 0.5032 - val_accuracy: 0.8800\n",
      "Epoch 32/100\n",
      "4/4 [==============================] - 0s 8ms/step - loss: 0.5111 - accuracy: 0.9229 - val_loss: 0.4948 - val_accuracy: 0.9200\n",
      "Epoch 33/100\n",
      "4/4 [==============================] - 0s 8ms/step - loss: 0.4810 - accuracy: 0.9262 - val_loss: 0.4859 - val_accuracy: 0.9400\n",
      "Epoch 34/100\n",
      "4/4 [==============================] - 0s 9ms/step - loss: 0.4679 - accuracy: 0.9170 - val_loss: 0.4788 - val_accuracy: 0.9600\n",
      "Epoch 35/100\n",
      "4/4 [==============================] - 0s 9ms/step - loss: 0.4515 - accuracy: 0.9078 - val_loss: 0.4732 - val_accuracy: 0.9600\n",
      "Epoch 36/100\n",
      "4/4 [==============================] - 0s 8ms/step - loss: 0.4486 - accuracy: 0.9078 - val_loss: 0.4662 - val_accuracy: 0.9600\n",
      "Epoch 37/100\n",
      "4/4 [==============================] - 0s 8ms/step - loss: 0.4420 - accuracy: 0.9295 - val_loss: 0.4568 - val_accuracy: 0.9600\n",
      "Epoch 38/100\n",
      "4/4 [==============================] - 0s 9ms/step - loss: 0.4371 - accuracy: 0.8954 - val_loss: 0.4484 - val_accuracy: 0.9600\n",
      "Epoch 39/100\n",
      "4/4 [==============================] - 0s 9ms/step - loss: 0.4413 - accuracy: 0.9171 - val_loss: 0.4410 - val_accuracy: 0.9600\n",
      "Epoch 40/100\n",
      "4/4 [==============================] - 0s 8ms/step - loss: 0.4279 - accuracy: 0.9034 - val_loss: 0.4359 - val_accuracy: 0.9200\n",
      "Epoch 41/100\n",
      "4/4 [==============================] - 0s 8ms/step - loss: 0.4266 - accuracy: 0.9232 - val_loss: 0.4277 - val_accuracy: 0.9600\n",
      "Epoch 42/100\n",
      "4/4 [==============================] - 0s 8ms/step - loss: 0.4173 - accuracy: 0.9140 - val_loss: 0.4204 - val_accuracy: 0.9600\n",
      "Epoch 43/100\n",
      "4/4 [==============================] - 0s 8ms/step - loss: 0.4090 - accuracy: 0.9076 - val_loss: 0.4152 - val_accuracy: 0.9600\n",
      "Epoch 44/100\n",
      "4/4 [==============================] - 0s 8ms/step - loss: 0.4018 - accuracy: 0.9074 - val_loss: 0.4151 - val_accuracy: 0.9800\n",
      "Epoch 45/100\n",
      "4/4 [==============================] - 0s 7ms/step - loss: 0.4035 - accuracy: 0.9479 - val_loss: 0.4075 - val_accuracy: 0.9800\n",
      "Epoch 46/100\n",
      "4/4 [==============================] - 0s 9ms/step - loss: 0.3839 - accuracy: 0.9491 - val_loss: 0.3948 - val_accuracy: 0.9600\n",
      "Epoch 47/100\n",
      "4/4 [==============================] - 0s 7ms/step - loss: 0.3848 - accuracy: 0.9065 - val_loss: 0.3904 - val_accuracy: 0.9400\n",
      "Epoch 48/100\n",
      "4/4 [==============================] - 0s 8ms/step - loss: 0.3795 - accuracy: 0.9501 - val_loss: 0.3872 - val_accuracy: 0.9000\n",
      "Epoch 49/100\n",
      "4/4 [==============================] - 0s 9ms/step - loss: 0.3938 - accuracy: 0.9322 - val_loss: 0.3782 - val_accuracy: 0.9600\n",
      "Epoch 50/100\n",
      "4/4 [==============================] - 0s 7ms/step - loss: 0.3555 - accuracy: 0.9623 - val_loss: 0.3729 - val_accuracy: 0.9400\n",
      "Epoch 51/100\n",
      "4/4 [==============================] - 0s 8ms/step - loss: 0.3671 - accuracy: 0.9571 - val_loss: 0.3669 - val_accuracy: 0.9600\n",
      "Epoch 52/100\n",
      "4/4 [==============================] - 0s 8ms/step - loss: 0.3704 - accuracy: 0.9352 - val_loss: 0.3606 - val_accuracy: 0.9600\n",
      "Epoch 53/100\n",
      "4/4 [==============================] - 0s 9ms/step - loss: 0.3558 - accuracy: 0.9807 - val_loss: 0.3550 - val_accuracy: 0.9600\n",
      "Epoch 54/100\n",
      "4/4 [==============================] - 0s 8ms/step - loss: 0.3225 - accuracy: 0.9694 - val_loss: 0.3515 - val_accuracy: 0.9800\n",
      "Epoch 55/100\n",
      "4/4 [==============================] - 0s 8ms/step - loss: 0.3437 - accuracy: 0.9571 - val_loss: 0.3502 - val_accuracy: 0.9800\n",
      "Epoch 56/100\n",
      "4/4 [==============================] - 0s 7ms/step - loss: 0.3342 - accuracy: 0.9531 - val_loss: 0.3430 - val_accuracy: 0.9800\n",
      "Epoch 57/100\n",
      "4/4 [==============================] - 0s 8ms/step - loss: 0.3349 - accuracy: 0.9290 - val_loss: 0.3349 - val_accuracy: 0.9600\n",
      "Epoch 58/100\n",
      "4/4 [==============================] - 0s 7ms/step - loss: 0.3250 - accuracy: 0.9446 - val_loss: 0.3341 - val_accuracy: 0.9400\n",
      "Epoch 59/100\n"
     ]
    },
    {
     "name": "stdout",
     "output_type": "stream",
     "text": [
      "4/4 [==============================] - 0s 8ms/step - loss: 0.3282 - accuracy: 0.9354 - val_loss: 0.3349 - val_accuracy: 0.9200\n",
      "Epoch 60/100\n",
      "4/4 [==============================] - 0s 8ms/step - loss: 0.3077 - accuracy: 0.9416 - val_loss: 0.3327 - val_accuracy: 0.9200\n",
      "Epoch 61/100\n",
      "4/4 [==============================] - 0s 7ms/step - loss: 0.3136 - accuracy: 0.9322 - val_loss: 0.3239 - val_accuracy: 0.9200\n",
      "Epoch 62/100\n",
      "4/4 [==============================] - 0s 8ms/step - loss: 0.3100 - accuracy: 0.9352 - val_loss: 0.3156 - val_accuracy: 0.9400\n",
      "Epoch 63/100\n",
      "4/4 [==============================] - 0s 9ms/step - loss: 0.2922 - accuracy: 0.9477 - val_loss: 0.3108 - val_accuracy: 0.9400\n",
      "Epoch 64/100\n",
      "4/4 [==============================] - 0s 9ms/step - loss: 0.3032 - accuracy: 0.9600 - val_loss: 0.3070 - val_accuracy: 0.9400\n",
      "Epoch 65/100\n",
      "4/4 [==============================] - 0s 9ms/step - loss: 0.3101 - accuracy: 0.9538 - val_loss: 0.3037 - val_accuracy: 0.9800\n",
      "Epoch 66/100\n",
      "4/4 [==============================] - 0s 8ms/step - loss: 0.2815 - accuracy: 0.9540 - val_loss: 0.3001 - val_accuracy: 0.9600\n",
      "Epoch 67/100\n",
      "4/4 [==============================] - 0s 7ms/step - loss: 0.2774 - accuracy: 0.9592 - val_loss: 0.2969 - val_accuracy: 0.9600\n",
      "Epoch 68/100\n",
      "4/4 [==============================] - 0s 7ms/step - loss: 0.2952 - accuracy: 0.9446 - val_loss: 0.2941 - val_accuracy: 0.9400\n",
      "Epoch 69/100\n",
      "4/4 [==============================] - 0s 7ms/step - loss: 0.2726 - accuracy: 0.9510 - val_loss: 0.2923 - val_accuracy: 0.9400\n",
      "Epoch 70/100\n",
      "4/4 [==============================] - 0s 7ms/step - loss: 0.2817 - accuracy: 0.9446 - val_loss: 0.2892 - val_accuracy: 0.9400\n",
      "Epoch 71/100\n",
      "4/4 [==============================] - 0s 7ms/step - loss: 0.2710 - accuracy: 0.9508 - val_loss: 0.2861 - val_accuracy: 0.9400\n",
      "Epoch 72/100\n",
      "4/4 [==============================] - 0s 8ms/step - loss: 0.2645 - accuracy: 0.9571 - val_loss: 0.2825 - val_accuracy: 0.9400\n",
      "Epoch 73/100\n",
      "4/4 [==============================] - 0s 8ms/step - loss: 0.2712 - accuracy: 0.9632 - val_loss: 0.2794 - val_accuracy: 0.9400\n",
      "Epoch 74/100\n",
      "4/4 [==============================] - 0s 9ms/step - loss: 0.2659 - accuracy: 0.9600 - val_loss: 0.2777 - val_accuracy: 0.9400\n",
      "Epoch 75/100\n",
      "4/4 [==============================] - 0s 10ms/step - loss: 0.2666 - accuracy: 0.9508 - val_loss: 0.2765 - val_accuracy: 0.9400\n",
      "Epoch 76/100\n",
      "4/4 [==============================] - 0s 9ms/step - loss: 0.2664 - accuracy: 0.9508 - val_loss: 0.2725 - val_accuracy: 0.9400\n",
      "Epoch 77/100\n",
      "4/4 [==============================] - 0s 8ms/step - loss: 0.2473 - accuracy: 0.9786 - val_loss: 0.2683 - val_accuracy: 0.9600\n",
      "Epoch 78/100\n",
      "4/4 [==============================] - 0s 8ms/step - loss: 0.2466 - accuracy: 0.9569 - val_loss: 0.2701 - val_accuracy: 0.9800\n",
      "Epoch 79/100\n",
      "4/4 [==============================] - 0s 9ms/step - loss: 0.2523 - accuracy: 0.9383 - val_loss: 0.2721 - val_accuracy: 0.9800\n",
      "Epoch 80/100\n",
      "4/4 [==============================] - 0s 9ms/step - loss: 0.2584 - accuracy: 0.9415 - val_loss: 0.2673 - val_accuracy: 0.9800\n",
      "Epoch 81/100\n",
      "4/4 [==============================] - 0s 7ms/step - loss: 0.2517 - accuracy: 0.9633 - val_loss: 0.2601 - val_accuracy: 0.9600\n",
      "Epoch 82/100\n",
      "4/4 [==============================] - 0s 7ms/step - loss: 0.2501 - accuracy: 0.9569 - val_loss: 0.2563 - val_accuracy: 0.9600\n",
      "Epoch 83/100\n",
      "4/4 [==============================] - 0s 7ms/step - loss: 0.2448 - accuracy: 0.9661 - val_loss: 0.2549 - val_accuracy: 0.9400\n",
      "Epoch 84/100\n",
      "4/4 [==============================] - 0s 8ms/step - loss: 0.2345 - accuracy: 0.9684 - val_loss: 0.2528 - val_accuracy: 0.9400\n",
      "Epoch 85/100\n",
      "4/4 [==============================] - 0s 7ms/step - loss: 0.2354 - accuracy: 0.9818 - val_loss: 0.2499 - val_accuracy: 0.9600\n",
      "Epoch 86/100\n",
      "4/4 [==============================] - 0s 7ms/step - loss: 0.2421 - accuracy: 0.9507 - val_loss: 0.2488 - val_accuracy: 0.9600\n",
      "Epoch 87/100\n",
      "4/4 [==============================] - 0s 6ms/step - loss: 0.2362 - accuracy: 0.9684 - val_loss: 0.2474 - val_accuracy: 0.9600\n",
      "Epoch 88/100\n",
      "4/4 [==============================] - 0s 7ms/step - loss: 0.2392 - accuracy: 0.9507 - val_loss: 0.2436 - val_accuracy: 0.9600\n",
      "Epoch 89/100\n",
      "4/4 [==============================] - 0s 7ms/step - loss: 0.2306 - accuracy: 0.9663 - val_loss: 0.2435 - val_accuracy: 0.9400\n",
      "Epoch 90/100\n",
      "4/4 [==============================] - 0s 7ms/step - loss: 0.2189 - accuracy: 0.9621 - val_loss: 0.2408 - val_accuracy: 0.9400\n",
      "Epoch 91/100\n",
      "4/4 [==============================] - 0s 6ms/step - loss: 0.2027 - accuracy: 0.9818 - val_loss: 0.2382 - val_accuracy: 0.9600\n",
      "Epoch 92/100\n",
      "4/4 [==============================] - 0s 8ms/step - loss: 0.2299 - accuracy: 0.9475 - val_loss: 0.2372 - val_accuracy: 0.9600\n",
      "Epoch 93/100\n",
      "4/4 [==============================] - 0s 11ms/step - loss: 0.2342 - accuracy: 0.9632 - val_loss: 0.2338 - val_accuracy: 0.9600\n",
      "Epoch 94/100\n",
      "4/4 [==============================] - 0s 7ms/step - loss: 0.2104 - accuracy: 0.9693 - val_loss: 0.2318 - val_accuracy: 0.9600\n",
      "Epoch 95/100\n",
      "4/4 [==============================] - 0s 7ms/step - loss: 0.2294 - accuracy: 0.9600 - val_loss: 0.2302 - val_accuracy: 0.9600\n",
      "Epoch 96/100\n",
      "4/4 [==============================] - 0s 7ms/step - loss: 0.2141 - accuracy: 0.9538 - val_loss: 0.2282 - val_accuracy: 0.9600\n",
      "Epoch 97/100\n",
      "4/4 [==============================] - 0s 7ms/step - loss: 0.2327 - accuracy: 0.9693 - val_loss: 0.2264 - val_accuracy: 0.9600\n",
      "Epoch 98/100\n",
      "4/4 [==============================] - 0s 7ms/step - loss: 0.2274 - accuracy: 0.9536 - val_loss: 0.2252 - val_accuracy: 0.9600\n",
      "Epoch 99/100\n",
      "4/4 [==============================] - 0s 7ms/step - loss: 0.2001 - accuracy: 0.9684 - val_loss: 0.2229 - val_accuracy: 0.9600\n",
      "Epoch 100/100\n",
      "4/4 [==============================] - 0s 8ms/step - loss: 0.2115 - accuracy: 0.9630 - val_loss: 0.2225 - val_accuracy: 0.9400\n"
     ]
    }
   ],
   "source": [
    "epochs=100\n",
    "history = model.fit(X_train,y_train,epochs=epochs,validation_data=(X_test, y_test),verbose=1)"
   ]
  },
  {
   "cell_type": "code",
   "execution_count": 95,
   "id": "aa5c0dfc",
   "metadata": {},
   "outputs": [],
   "source": [
    "from  matplotlib import pyplot as plt\n",
    "import seaborn as sns"
   ]
  },
  {
   "cell_type": "code",
   "execution_count": 96,
   "id": "1ec036cf",
   "metadata": {},
   "outputs": [
    {
     "data": {
      "image/png": "[encoded data removed]",
      "text/plain": [
       "<Figure size 432x288 with 1 Axes>"
      ]
     },
     "metadata": {},
     "output_type": "display_data"
    }
   ],
   "source": [
    "N = epochs # No. epochs \n",
    "plt.style.use(\"ggplot\")\n",
    "plt.figure()\n",
    "plt.plot(np.arange(0, N), history.history[\"loss\"], label=\"train_loss\")\n",
    "plt.plot(np.arange(0, N), history.history[\"val_loss\"], label=\"val_loss\")\n",
    "plt.plot(np.arange(0, N), history.history[\"accuracy\"], label=\"train_acc\")\n",
    "plt.plot(np.arange(0, N), history.history[\"val_accuracy\"], label=\"val_acc\")\n",
    "plt.title(\"Training Loss and Accuracy on Dataset\")\n",
    "plt.xlabel(\"Epoch #\")\n",
    "plt.ylabel(\"Loss/Accuracy\")\n",
    "plt.legend(loc=\"lower left\")\n",
    "plt.savefig(\"plot.png\")"
   ]
  },
  {
   "cell_type": "code",
   "execution_count": 97,
   "id": "d3695701",
   "metadata": {},
   "outputs": [
    {
     "data": {
      "image/png": "[encoded data removed]",
      "text/plain": [
       "<Figure size 1440x576 with 2 Axes>"
      ]
     },
     "metadata": {},
     "output_type": "display_data"
    }
   ],
   "source": [
    "keys=['accuracy', 'loss']\n",
    "plt.figure(figsize=(20,8))\n",
    "for i, key in enumerate(keys):\n",
    "    plt.subplot(1, 2, i + 1)\n",
    "    sns.lineplot(x = history.epoch, y = history.history[key])\n",
    "    sns.lineplot(x = history.epoch, y = history.history['val_' + key])\n",
    "    plt.title('Learning Curve')\n",
    "    plt.ylabel(key.title())\n",
    "    plt.xlabel('Epoch')\n",
    "#         plt.ylim(ylim)\n",
    "    plt.legend(['train', 'test'], loc='best')\n",
    "plt.show()"
   ]
  },
  {
   "cell_type": "code",
   "execution_count": 98,
   "id": "4c828e18",
   "metadata": {},
   "outputs": [
    {
     "data": {
      "text/plain": [
       "['loss', 'accuracy']"
      ]
     },
     "execution_count": 98,
     "metadata": {},
     "output_type": "execute_result"
    }
   ],
   "source": [
    "model.metrics_names"
   ]
  },
  {
   "cell_type": "code",
   "execution_count": 99,
   "id": "e880e8dc",
   "metadata": {},
   "outputs": [
    {
     "name": "stdout",
     "output_type": "stream",
     "text": [
      "2/2 [==============================] - 0s 0s/step - loss: 0.2225 - accuracy: 0.9400\n"
     ]
    },
    {
     "data": {
      "text/plain": [
       "[0.22248390316963196, 0.9399999976158142]"
      ]
     },
     "execution_count": 99,
     "metadata": {},
     "output_type": "execute_result"
    }
   ],
   "source": [
    "model.evaluate(X_test,y_test)"
   ]
  },
  {
   "cell_type": "code",
   "execution_count": 100,
   "id": "a5651bb1",
   "metadata": {},
   "outputs": [
    {
     "name": "stderr",
     "output_type": "stream",
     "text": [
      "C:\\Users\\mural\\AppData\\Roaming\\Python\\Python39\\site-packages\\keras\\engine\\sequential.py:450: UserWarning: `model.predict_classes()` is deprecated and will be removed after 2021-01-01. Please use instead:* `np.argmax(model.predict(x), axis=-1)`,   if your model does multi-class classification   (e.g. if it uses a `softmax` last-layer activation).* `(model.predict(x) > 0.5).astype(\"int32\")`,   if your model does binary classification   (e.g. if it uses a `sigmoid` last-layer activation).\n",
      "  warnings.warn('`model.predict_classes()` is deprecated and '\n"
     ]
    }
   ],
   "source": [
    "from sklearn.metrics import classification_report\n",
    "\n",
    "predictions = model.predict_classes(X_test)"
   ]
  },
  {
   "cell_type": "code",
   "execution_count": 101,
   "id": "246c918d",
   "metadata": {},
   "outputs": [],
   "source": [
    "df = pd.DataFrame(y_test)\n",
    "new_df = df.idxmax(axis=1)"
   ]
  },
  {
   "cell_type": "code",
   "execution_count": 102,
   "id": "07e2c131",
   "metadata": {},
   "outputs": [
    {
     "name": "stdout",
     "output_type": "stream",
     "text": [
      "              precision    recall  f1-score   support\n",
      "\n",
      "           0       1.00      1.00      1.00        17\n",
      "           1       0.94      0.88      0.91        17\n",
      "           2       0.88      0.94      0.91        16\n",
      "\n",
      "    accuracy                           0.94        50\n",
      "   macro avg       0.94      0.94      0.94        50\n",
      "weighted avg       0.94      0.94      0.94        50\n",
      "\n"
     ]
    }
   ],
   "source": [
    "print(classification_report(new_df,predictions))"
   ]
  },
  {
   "cell_type": "code",
   "execution_count": null,
   "id": "d7f80b51",
   "metadata": {},
   "outputs": [],
   "source": []
  }
 ],
 "metadata": {
  "kernelspec": {
   "display_name": "Python 3",
   "language": "python",
   "name": "python3"
  },
  "language_info": {
   "codemirror_mode": {
    "name": "ipython",
    "version": 3
   },
   "file_extension": ".py",
   "mimetype": "text/x-python",
   "name": "python",
   "nbconvert_exporter": "python",
   "pygments_lexer": "ipython3",
   "version": "3.9.4"
  }
 },
 "nbformat": 4,
 "nbformat_minor": 5
}
